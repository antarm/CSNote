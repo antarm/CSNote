{
 "cells": [
  {
   "attachments": {},
   "cell_type": "markdown",
   "metadata": {},
   "source": [
    "# 栈测试\n",
    "\n",
    "## 1. stack栈测试（连续存储空间）\n",
    "> 1. 创建栈\n",
    "> 2. 入栈和出栈\n",
    "> 3. 括号匹配\n",
    "## 2. LinkStack测试\n",
    "> 1. 创建栈\n",
    "> 2. 入栈和出栈\n"
   ]
  },
  {
   "cell_type": "code",
   "execution_count": 6,
   "metadata": {},
   "outputs": [],
   "source": [
    "import os\n",
    "import sys\n",
    "\n",
    "sys.path.extend([os.path.abspath(\"../\"),os.getcwd()])"
   ]
  },
  {
   "cell_type": "code",
   "execution_count": 7,
   "metadata": {},
   "outputs": [
    {
     "name": "stdout",
     "output_type": "stream",
     "text": [
      "[0,1,2,3,4>\n",
      "[0,1,2,3>\n"
     ]
    }
   ],
   "source": [
    "from src.linear import Stack,LinkStack\n",
    "\n",
    "stack = Stack()\n",
    "data = [i for i in range(5)]\n",
    "for _ in data:\n",
    "    stack.push(e=_)\n",
    "print(stack)\n",
    "stack.pop()\n",
    "print(stack)"
   ]
  },
  {
   "cell_type": "code",
   "execution_count": 8,
   "metadata": {},
   "outputs": [],
   "source": [
    "def isValid(s:str):\n",
    "    left = [\"(\",\"[\",\"{\"]\n",
    "    right = {\")\":\"(\",\"]\":\"[\",\"}\":\"{\"}\n",
    "    stack = Stack()\n",
    "    for c in s:\n",
    "        if c in left:\n",
    "            stack.push(c)\n",
    "        elif c in right.keys():\n",
    "            if stack.top() == right[c]:\n",
    "                stack.pop()\n",
    "            else:\n",
    "                return False\n",
    "        else:\n",
    "            #其他字符不做处理\n",
    "            pass\n",
    "    if len(stack)==0:\n",
    "        return True"
   ]
  },
  {
   "cell_type": "code",
   "execution_count": 9,
   "metadata": {},
   "outputs": [
    {
     "data": {
      "text/plain": [
       "True"
      ]
     },
     "execution_count": 9,
     "metadata": {},
     "output_type": "execute_result"
    }
   ],
   "source": [
    "s = \"{[([])]}\"\n",
    "isValid(s)"
   ]
  },
  {
   "cell_type": "code",
   "execution_count": 10,
   "metadata": {},
   "outputs": [
    {
     "data": {
      "text/plain": [
       "True"
      ]
     },
     "execution_count": 10,
     "metadata": {},
     "output_type": "execute_result"
    }
   ],
   "source": [
    "def isValid2(s:str):\n",
    "    left = [\"(\",\"[\",\"{\"]\n",
    "    right = {\n",
    "        \")\":\"(\",\n",
    "        \"]\":\"[\",\n",
    "        \"}\":\"{\"}\n",
    "    stack = LinkStack()\n",
    "    for c in s:\n",
    "        if c in left:\n",
    "            stack.push(c)\n",
    "        elif c in right.keys():\n",
    "            if stack.top() == right[c]:\n",
    "                stack.pop()\n",
    "            else:\n",
    "                return False\n",
    "        else:\n",
    "            #其他字符不做处理\n",
    "            pass\n",
    "    if len(stack)==0:\n",
    "        return True\n",
    "s = \"{[([[]])]}\"\n",
    "isValid2(s)"
   ]
  },
  {
   "cell_type": "code",
   "execution_count": null,
   "metadata": {},
   "outputs": [],
   "source": []
  },
  {
   "cell_type": "code",
   "execution_count": null,
   "metadata": {},
   "outputs": [],
   "source": []
  }
 ],
 "metadata": {
  "kernelspec": {
   "display_name": "Python 3",
   "language": "python",
   "name": "python3"
  },
  "language_info": {
   "codemirror_mode": {
    "name": "ipython",
    "version": 3
   },
   "file_extension": ".py",
   "mimetype": "text/x-python",
   "name": "python",
   "nbconvert_exporter": "python",
   "pygments_lexer": "ipython3",
   "version": "3.8.5"
  },
  "orig_nbformat": 4,
  "vscode": {
   "interpreter": {
    "hash": "916dbcbb3f70747c44a77c7bcd40155683ae19c65e1c03b4aa3499c5328201f1"
   }
  }
 },
 "nbformat": 4,
 "nbformat_minor": 2
}
